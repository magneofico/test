{
 "cells": [
  {
   "cell_type": "code",
   "execution_count": 3,
   "id": "abd91f98-263e-4185-a3ee-916e51b57592",
   "metadata": {},
   "outputs": [
    {
     "name": "stdout",
     "output_type": "stream",
     "text": [
      "The mean is  10.5\n",
      "The median is  10.5\n",
      "The mode is  10\n"
     ]
    }
   ],
   "source": [
    "# import statistics as stats\n",
    "# lst_Age=[9,10,10,10,11,11,11,11,10,12,12,9]\n",
    "\n",
    "# #Calculate the mean  of list_Age\n",
    "# print (\"The mean is \", stats.mean(lst_Age))\n",
    "# print (\"The median is \", stats.median(lst_Age))\n",
    "# print (\"The mode is \", stats.mode(lst_Age))"
   ]
  },
  {
   "cell_type": "markdown",
   "id": "85101ffd-70af-4a84-8d2c-48fbe0b1457f",
   "metadata": {},
   "source": [
    "# Load Data"
   ]
  },
  {
   "cell_type": "code",
   "execution_count": 7,
   "id": "63581167-12a7-4895-9558-cda5c06e5337",
   "metadata": {},
   "outputs": [],
   "source": [
    "%matplotlib inline\n",
    "\n",
    "import numpy as np\n",
    "import pandas as pd\n",
    "import scipy.stats as stats\n",
    "import matplotlib.pyplot as plt\n",
    "import math"
   ]
  },
  {
   "cell_type": "markdown",
   "id": "78040f69-d827-46ae-98e1-a4274a3f6a49",
   "metadata": {
    "tags": []
   },
   "source": [
    "??np.random.seed"
   ]
  },
  {
   "cell_type": "code",
   "execution_count": 6,
   "id": "a737e287-7ff3-4300-ac29-856ea690b583",
   "metadata": {},
   "outputs": [
    {
     "data": {
      "text/plain": [
       "\u001b[0;31mType:\u001b[0m        module\n",
       "\u001b[0;31mString form:\u001b[0m <module 'numpy.random' from '/Users/kristofferneo/opt/anaconda3/lib/python3.9/site-packages/numpy/random/__init__.py'>\n",
       "\u001b[0;31mFile:\u001b[0m        ~/opt/anaconda3/lib/python3.9/site-packages/numpy/random/__init__.py\n",
       "\u001b[0;31mSource:\u001b[0m     \n",
       "\u001b[0;34m\"\"\"\u001b[0m\n",
       "\u001b[0;34m========================\u001b[0m\n",
       "\u001b[0;34mRandom Number Generation\u001b[0m\n",
       "\u001b[0;34m========================\u001b[0m\n",
       "\u001b[0;34m\u001b[0m\n",
       "\u001b[0;34mUse ``default_rng()`` to create a `Generator` and call its methods.\u001b[0m\n",
       "\u001b[0;34m\u001b[0m\n",
       "\u001b[0;34m=============== =========================================================\u001b[0m\n",
       "\u001b[0;34mGenerator\u001b[0m\n",
       "\u001b[0;34m--------------- ---------------------------------------------------------\u001b[0m\n",
       "\u001b[0;34mGenerator       Class implementing all of the random number distributions\u001b[0m\n",
       "\u001b[0;34mdefault_rng     Default constructor for ``Generator``\u001b[0m\n",
       "\u001b[0;34m=============== =========================================================\u001b[0m\n",
       "\u001b[0;34m\u001b[0m\n",
       "\u001b[0;34m============================================= ===\u001b[0m\n",
       "\u001b[0;34mBitGenerator Streams that work with Generator\u001b[0m\n",
       "\u001b[0;34m--------------------------------------------- ---\u001b[0m\n",
       "\u001b[0;34mMT19937\u001b[0m\n",
       "\u001b[0;34mPCG64\u001b[0m\n",
       "\u001b[0;34mPCG64DXSM\u001b[0m\n",
       "\u001b[0;34mPhilox\u001b[0m\n",
       "\u001b[0;34mSFC64\u001b[0m\n",
       "\u001b[0;34m============================================= ===\u001b[0m\n",
       "\u001b[0;34m\u001b[0m\n",
       "\u001b[0;34m============================================= ===\u001b[0m\n",
       "\u001b[0;34mGetting entropy to initialize a BitGenerator\u001b[0m\n",
       "\u001b[0;34m--------------------------------------------- ---\u001b[0m\n",
       "\u001b[0;34mSeedSequence\u001b[0m\n",
       "\u001b[0;34m============================================= ===\u001b[0m\n",
       "\u001b[0;34m\u001b[0m\n",
       "\u001b[0;34m\u001b[0m\n",
       "\u001b[0;34mLegacy\u001b[0m\n",
       "\u001b[0;34m------\u001b[0m\n",
       "\u001b[0;34m\u001b[0m\n",
       "\u001b[0;34mFor backwards compatibility with previous versions of numpy before 1.17, the\u001b[0m\n",
       "\u001b[0;34mvarious aliases to the global `RandomState` methods are left alone and do not\u001b[0m\n",
       "\u001b[0;34muse the new `Generator` API.\u001b[0m\n",
       "\u001b[0;34m\u001b[0m\n",
       "\u001b[0;34m==================== =========================================================\u001b[0m\n",
       "\u001b[0;34mUtility functions\u001b[0m\n",
       "\u001b[0;34m-------------------- ---------------------------------------------------------\u001b[0m\n",
       "\u001b[0;34mrandom               Uniformly distributed floats over ``[0, 1)``\u001b[0m\n",
       "\u001b[0;34mbytes                Uniformly distributed random bytes.\u001b[0m\n",
       "\u001b[0;34mpermutation          Randomly permute a sequence / generate a random sequence.\u001b[0m\n",
       "\u001b[0;34mshuffle              Randomly permute a sequence in place.\u001b[0m\n",
       "\u001b[0;34mchoice               Random sample from 1-D array.\u001b[0m\n",
       "\u001b[0;34m==================== =========================================================\u001b[0m\n",
       "\u001b[0;34m\u001b[0m\n",
       "\u001b[0;34m==================== =========================================================\u001b[0m\n",
       "\u001b[0;34mCompatibility\u001b[0m\n",
       "\u001b[0;34mfunctions - removed\u001b[0m\n",
       "\u001b[0;34min the new API\u001b[0m\n",
       "\u001b[0;34m-------------------- ---------------------------------------------------------\u001b[0m\n",
       "\u001b[0;34mrand                 Uniformly distributed values.\u001b[0m\n",
       "\u001b[0;34mrandn                Normally distributed values.\u001b[0m\n",
       "\u001b[0;34mranf                 Uniformly distributed floating point numbers.\u001b[0m\n",
       "\u001b[0;34mrandom_integers      Uniformly distributed integers in a given range.\u001b[0m\n",
       "\u001b[0;34m                     (deprecated, use ``integers(..., closed=True)`` instead)\u001b[0m\n",
       "\u001b[0;34mrandom_sample        Alias for `random_sample`\u001b[0m\n",
       "\u001b[0;34mrandint              Uniformly distributed integers in a given range\u001b[0m\n",
       "\u001b[0;34mseed                 Seed the legacy random number generator.\u001b[0m\n",
       "\u001b[0;34m==================== =========================================================\u001b[0m\n",
       "\u001b[0;34m\u001b[0m\n",
       "\u001b[0;34m==================== =========================================================\u001b[0m\n",
       "\u001b[0;34mUnivariate\u001b[0m\n",
       "\u001b[0;34mdistributions\u001b[0m\n",
       "\u001b[0;34m-------------------- ---------------------------------------------------------\u001b[0m\n",
       "\u001b[0;34mbeta                 Beta distribution over ``[0, 1]``.\u001b[0m\n",
       "\u001b[0;34mbinomial             Binomial distribution.\u001b[0m\n",
       "\u001b[0;34mchisquare            :math:`\\\\chi^2` distribution.\u001b[0m\n",
       "\u001b[0;34mexponential          Exponential distribution.\u001b[0m\n",
       "\u001b[0;34mf                    F (Fisher-Snedecor) distribution.\u001b[0m\n",
       "\u001b[0;34mgamma                Gamma distribution.\u001b[0m\n",
       "\u001b[0;34mgeometric            Geometric distribution.\u001b[0m\n",
       "\u001b[0;34mgumbel               Gumbel distribution.\u001b[0m\n",
       "\u001b[0;34mhypergeometric       Hypergeometric distribution.\u001b[0m\n",
       "\u001b[0;34mlaplace              Laplace distribution.\u001b[0m\n",
       "\u001b[0;34mlogistic             Logistic distribution.\u001b[0m\n",
       "\u001b[0;34mlognormal            Log-normal distribution.\u001b[0m\n",
       "\u001b[0;34mlogseries            Logarithmic series distribution.\u001b[0m\n",
       "\u001b[0;34mnegative_binomial    Negative binomial distribution.\u001b[0m\n",
       "\u001b[0;34mnoncentral_chisquare Non-central chi-square distribution.\u001b[0m\n",
       "\u001b[0;34mnoncentral_f         Non-central F distribution.\u001b[0m\n",
       "\u001b[0;34mnormal               Normal / Gaussian distribution.\u001b[0m\n",
       "\u001b[0;34mpareto               Pareto distribution.\u001b[0m\n",
       "\u001b[0;34mpoisson              Poisson distribution.\u001b[0m\n",
       "\u001b[0;34mpower                Power distribution.\u001b[0m\n",
       "\u001b[0;34mrayleigh             Rayleigh distribution.\u001b[0m\n",
       "\u001b[0;34mtriangular           Triangular distribution.\u001b[0m\n",
       "\u001b[0;34muniform              Uniform distribution.\u001b[0m\n",
       "\u001b[0;34mvonmises             Von Mises circular distribution.\u001b[0m\n",
       "\u001b[0;34mwald                 Wald (inverse Gaussian) distribution.\u001b[0m\n",
       "\u001b[0;34mweibull              Weibull distribution.\u001b[0m\n",
       "\u001b[0;34mzipf                 Zipf's distribution over ranked data.\u001b[0m\n",
       "\u001b[0;34m==================== =========================================================\u001b[0m\n",
       "\u001b[0;34m\u001b[0m\n",
       "\u001b[0;34m==================== ==========================================================\u001b[0m\n",
       "\u001b[0;34mMultivariate\u001b[0m\n",
       "\u001b[0;34mdistributions\u001b[0m\n",
       "\u001b[0;34m-------------------- ----------------------------------------------------------\u001b[0m\n",
       "\u001b[0;34mdirichlet            Multivariate generalization of Beta distribution.\u001b[0m\n",
       "\u001b[0;34mmultinomial          Multivariate generalization of the binomial distribution.\u001b[0m\n",
       "\u001b[0;34mmultivariate_normal  Multivariate generalization of the normal distribution.\u001b[0m\n",
       "\u001b[0;34m==================== ==========================================================\u001b[0m\n",
       "\u001b[0;34m\u001b[0m\n",
       "\u001b[0;34m==================== =========================================================\u001b[0m\n",
       "\u001b[0;34mStandard\u001b[0m\n",
       "\u001b[0;34mdistributions\u001b[0m\n",
       "\u001b[0;34m-------------------- ---------------------------------------------------------\u001b[0m\n",
       "\u001b[0;34mstandard_cauchy      Standard Cauchy-Lorentz distribution.\u001b[0m\n",
       "\u001b[0;34mstandard_exponential Standard exponential distribution.\u001b[0m\n",
       "\u001b[0;34mstandard_gamma       Standard Gamma distribution.\u001b[0m\n",
       "\u001b[0;34mstandard_normal      Standard normal distribution.\u001b[0m\n",
       "\u001b[0;34mstandard_t           Standard Student's t-distribution.\u001b[0m\n",
       "\u001b[0;34m==================== =========================================================\u001b[0m\n",
       "\u001b[0;34m\u001b[0m\n",
       "\u001b[0;34m==================== =========================================================\u001b[0m\n",
       "\u001b[0;34mInternal functions\u001b[0m\n",
       "\u001b[0;34m-------------------- ---------------------------------------------------------\u001b[0m\n",
       "\u001b[0;34mget_state            Get tuple representing internal state of generator.\u001b[0m\n",
       "\u001b[0;34mset_state            Set state of generator.\u001b[0m\n",
       "\u001b[0;34m==================== =========================================================\u001b[0m\n",
       "\u001b[0;34m\u001b[0m\n",
       "\u001b[0;34m\u001b[0m\n",
       "\u001b[0;34m\"\"\"\u001b[0m\u001b[0;34m\u001b[0m\n",
       "\u001b[0;34m\u001b[0m\u001b[0m__all__\u001b[0m \u001b[0;34m=\u001b[0m \u001b[0;34m[\u001b[0m\u001b[0;34m\u001b[0m\n",
       "\u001b[0;34m\u001b[0m    \u001b[0;34m'beta'\u001b[0m\u001b[0;34m,\u001b[0m\u001b[0;34m\u001b[0m\n",
       "\u001b[0;34m\u001b[0m    \u001b[0;34m'binomial'\u001b[0m\u001b[0;34m,\u001b[0m\u001b[0;34m\u001b[0m\n",
       "\u001b[0;34m\u001b[0m    \u001b[0;34m'bytes'\u001b[0m\u001b[0;34m,\u001b[0m\u001b[0;34m\u001b[0m\n",
       "\u001b[0;34m\u001b[0m    \u001b[0;34m'chisquare'\u001b[0m\u001b[0;34m,\u001b[0m\u001b[0;34m\u001b[0m\n",
       "\u001b[0;34m\u001b[0m    \u001b[0;34m'choice'\u001b[0m\u001b[0;34m,\u001b[0m\u001b[0;34m\u001b[0m\n",
       "\u001b[0;34m\u001b[0m    \u001b[0;34m'dirichlet'\u001b[0m\u001b[0;34m,\u001b[0m\u001b[0;34m\u001b[0m\n",
       "\u001b[0;34m\u001b[0m    \u001b[0;34m'exponential'\u001b[0m\u001b[0;34m,\u001b[0m\u001b[0;34m\u001b[0m\n",
       "\u001b[0;34m\u001b[0m    \u001b[0;34m'f'\u001b[0m\u001b[0;34m,\u001b[0m\u001b[0;34m\u001b[0m\n",
       "\u001b[0;34m\u001b[0m    \u001b[0;34m'gamma'\u001b[0m\u001b[0;34m,\u001b[0m\u001b[0;34m\u001b[0m\n",
       "\u001b[0;34m\u001b[0m    \u001b[0;34m'geometric'\u001b[0m\u001b[0;34m,\u001b[0m\u001b[0;34m\u001b[0m\n",
       "\u001b[0;34m\u001b[0m    \u001b[0;34m'get_state'\u001b[0m\u001b[0;34m,\u001b[0m\u001b[0;34m\u001b[0m\n",
       "\u001b[0;34m\u001b[0m    \u001b[0;34m'gumbel'\u001b[0m\u001b[0;34m,\u001b[0m\u001b[0;34m\u001b[0m\n",
       "\u001b[0;34m\u001b[0m    \u001b[0;34m'hypergeometric'\u001b[0m\u001b[0;34m,\u001b[0m\u001b[0;34m\u001b[0m\n",
       "\u001b[0;34m\u001b[0m    \u001b[0;34m'laplace'\u001b[0m\u001b[0;34m,\u001b[0m\u001b[0;34m\u001b[0m\n",
       "\u001b[0;34m\u001b[0m    \u001b[0;34m'logistic'\u001b[0m\u001b[0;34m,\u001b[0m\u001b[0;34m\u001b[0m\n",
       "\u001b[0;34m\u001b[0m    \u001b[0;34m'lognormal'\u001b[0m\u001b[0;34m,\u001b[0m\u001b[0;34m\u001b[0m\n",
       "\u001b[0;34m\u001b[0m    \u001b[0;34m'logseries'\u001b[0m\u001b[0;34m,\u001b[0m\u001b[0;34m\u001b[0m\n",
       "\u001b[0;34m\u001b[0m    \u001b[0;34m'multinomial'\u001b[0m\u001b[0;34m,\u001b[0m\u001b[0;34m\u001b[0m\n",
       "\u001b[0;34m\u001b[0m    \u001b[0;34m'multivariate_normal'\u001b[0m\u001b[0;34m,\u001b[0m\u001b[0;34m\u001b[0m\n",
       "\u001b[0;34m\u001b[0m    \u001b[0;34m'negative_binomial'\u001b[0m\u001b[0;34m,\u001b[0m\u001b[0;34m\u001b[0m\n",
       "\u001b[0;34m\u001b[0m    \u001b[0;34m'noncentral_chisquare'\u001b[0m\u001b[0;34m,\u001b[0m\u001b[0;34m\u001b[0m\n",
       "\u001b[0;34m\u001b[0m    \u001b[0;34m'noncentral_f'\u001b[0m\u001b[0;34m,\u001b[0m\u001b[0;34m\u001b[0m\n",
       "\u001b[0;34m\u001b[0m    \u001b[0;34m'normal'\u001b[0m\u001b[0;34m,\u001b[0m\u001b[0;34m\u001b[0m\n",
       "\u001b[0;34m\u001b[0m    \u001b[0;34m'pareto'\u001b[0m\u001b[0;34m,\u001b[0m\u001b[0;34m\u001b[0m\n",
       "\u001b[0;34m\u001b[0m    \u001b[0;34m'permutation'\u001b[0m\u001b[0;34m,\u001b[0m\u001b[0;34m\u001b[0m\n",
       "\u001b[0;34m\u001b[0m    \u001b[0;34m'poisson'\u001b[0m\u001b[0;34m,\u001b[0m\u001b[0;34m\u001b[0m\n",
       "\u001b[0;34m\u001b[0m    \u001b[0;34m'power'\u001b[0m\u001b[0;34m,\u001b[0m\u001b[0;34m\u001b[0m\n",
       "\u001b[0;34m\u001b[0m    \u001b[0;34m'rand'\u001b[0m\u001b[0;34m,\u001b[0m\u001b[0;34m\u001b[0m\n",
       "\u001b[0;34m\u001b[0m    \u001b[0;34m'randint'\u001b[0m\u001b[0;34m,\u001b[0m\u001b[0;34m\u001b[0m\n",
       "\u001b[0;34m\u001b[0m    \u001b[0;34m'randn'\u001b[0m\u001b[0;34m,\u001b[0m\u001b[0;34m\u001b[0m\n",
       "\u001b[0;34m\u001b[0m    \u001b[0;34m'random'\u001b[0m\u001b[0;34m,\u001b[0m\u001b[0;34m\u001b[0m\n",
       "\u001b[0;34m\u001b[0m    \u001b[0;34m'random_integers'\u001b[0m\u001b[0;34m,\u001b[0m\u001b[0;34m\u001b[0m\n",
       "\u001b[0;34m\u001b[0m    \u001b[0;34m'random_sample'\u001b[0m\u001b[0;34m,\u001b[0m\u001b[0;34m\u001b[0m\n",
       "\u001b[0;34m\u001b[0m    \u001b[0;34m'ranf'\u001b[0m\u001b[0;34m,\u001b[0m\u001b[0;34m\u001b[0m\n",
       "\u001b[0;34m\u001b[0m    \u001b[0;34m'rayleigh'\u001b[0m\u001b[0;34m,\u001b[0m\u001b[0;34m\u001b[0m\n",
       "\u001b[0;34m\u001b[0m    \u001b[0;34m'sample'\u001b[0m\u001b[0;34m,\u001b[0m\u001b[0;34m\u001b[0m\n",
       "\u001b[0;34m\u001b[0m    \u001b[0;34m'seed'\u001b[0m\u001b[0;34m,\u001b[0m\u001b[0;34m\u001b[0m\n",
       "\u001b[0;34m\u001b[0m    \u001b[0;34m'set_state'\u001b[0m\u001b[0;34m,\u001b[0m\u001b[0;34m\u001b[0m\n",
       "\u001b[0;34m\u001b[0m    \u001b[0;34m'shuffle'\u001b[0m\u001b[0;34m,\u001b[0m\u001b[0;34m\u001b[0m\n",
       "\u001b[0;34m\u001b[0m    \u001b[0;34m'standard_cauchy'\u001b[0m\u001b[0;34m,\u001b[0m\u001b[0;34m\u001b[0m\n",
       "\u001b[0;34m\u001b[0m    \u001b[0;34m'standard_exponential'\u001b[0m\u001b[0;34m,\u001b[0m\u001b[0;34m\u001b[0m\n",
       "\u001b[0;34m\u001b[0m    \u001b[0;34m'standard_gamma'\u001b[0m\u001b[0;34m,\u001b[0m\u001b[0;34m\u001b[0m\n",
       "\u001b[0;34m\u001b[0m    \u001b[0;34m'standard_normal'\u001b[0m\u001b[0;34m,\u001b[0m\u001b[0;34m\u001b[0m\n",
       "\u001b[0;34m\u001b[0m    \u001b[0;34m'standard_t'\u001b[0m\u001b[0;34m,\u001b[0m\u001b[0;34m\u001b[0m\n",
       "\u001b[0;34m\u001b[0m    \u001b[0;34m'triangular'\u001b[0m\u001b[0;34m,\u001b[0m\u001b[0;34m\u001b[0m\n",
       "\u001b[0;34m\u001b[0m    \u001b[0;34m'uniform'\u001b[0m\u001b[0;34m,\u001b[0m\u001b[0;34m\u001b[0m\n",
       "\u001b[0;34m\u001b[0m    \u001b[0;34m'vonmises'\u001b[0m\u001b[0;34m,\u001b[0m\u001b[0;34m\u001b[0m\n",
       "\u001b[0;34m\u001b[0m    \u001b[0;34m'wald'\u001b[0m\u001b[0;34m,\u001b[0m\u001b[0;34m\u001b[0m\n",
       "\u001b[0;34m\u001b[0m    \u001b[0;34m'weibull'\u001b[0m\u001b[0;34m,\u001b[0m\u001b[0;34m\u001b[0m\n",
       "\u001b[0;34m\u001b[0m    \u001b[0;34m'zipf'\u001b[0m\u001b[0;34m,\u001b[0m\u001b[0;34m\u001b[0m\n",
       "\u001b[0;34m\u001b[0m\u001b[0;34m]\u001b[0m\u001b[0;34m\u001b[0m\n",
       "\u001b[0;34m\u001b[0m\u001b[0;34m\u001b[0m\n",
       "\u001b[0;34m\u001b[0m\u001b[0;31m# add these for module-freeze analysis (like PyInstaller)\u001b[0m\u001b[0;34m\u001b[0m\n",
       "\u001b[0;34m\u001b[0m\u001b[0;32mfrom\u001b[0m \u001b[0;34m.\u001b[0m \u001b[0;32mimport\u001b[0m \u001b[0m_pickle\u001b[0m\u001b[0;34m\u001b[0m\n",
       "\u001b[0;34m\u001b[0m\u001b[0;32mfrom\u001b[0m \u001b[0;34m.\u001b[0m \u001b[0;32mimport\u001b[0m \u001b[0m_common\u001b[0m\u001b[0;34m\u001b[0m\n",
       "\u001b[0;34m\u001b[0m\u001b[0;32mfrom\u001b[0m \u001b[0;34m.\u001b[0m \u001b[0;32mimport\u001b[0m \u001b[0m_bounded_integers\u001b[0m\u001b[0;34m\u001b[0m\n",
       "\u001b[0;34m\u001b[0m\u001b[0;34m\u001b[0m\n",
       "\u001b[0;34m\u001b[0m\u001b[0;32mfrom\u001b[0m \u001b[0;34m.\u001b[0m\u001b[0m_generator\u001b[0m \u001b[0;32mimport\u001b[0m \u001b[0mGenerator\u001b[0m\u001b[0;34m,\u001b[0m \u001b[0mdefault_rng\u001b[0m\u001b[0;34m\u001b[0m\n",
       "\u001b[0;34m\u001b[0m\u001b[0;32mfrom\u001b[0m \u001b[0;34m.\u001b[0m\u001b[0mbit_generator\u001b[0m \u001b[0;32mimport\u001b[0m \u001b[0mSeedSequence\u001b[0m\u001b[0;34m,\u001b[0m \u001b[0mBitGenerator\u001b[0m\u001b[0;34m\u001b[0m\n",
       "\u001b[0;34m\u001b[0m\u001b[0;32mfrom\u001b[0m \u001b[0;34m.\u001b[0m\u001b[0m_mt19937\u001b[0m \u001b[0;32mimport\u001b[0m \u001b[0mMT19937\u001b[0m\u001b[0;34m\u001b[0m\n",
       "\u001b[0;34m\u001b[0m\u001b[0;32mfrom\u001b[0m \u001b[0;34m.\u001b[0m\u001b[0m_pcg64\u001b[0m \u001b[0;32mimport\u001b[0m \u001b[0mPCG64\u001b[0m\u001b[0;34m,\u001b[0m \u001b[0mPCG64DXSM\u001b[0m\u001b[0;34m\u001b[0m\n",
       "\u001b[0;34m\u001b[0m\u001b[0;32mfrom\u001b[0m \u001b[0;34m.\u001b[0m\u001b[0m_philox\u001b[0m \u001b[0;32mimport\u001b[0m \u001b[0mPhilox\u001b[0m\u001b[0;34m\u001b[0m\n",
       "\u001b[0;34m\u001b[0m\u001b[0;32mfrom\u001b[0m \u001b[0;34m.\u001b[0m\u001b[0m_sfc64\u001b[0m \u001b[0;32mimport\u001b[0m \u001b[0mSFC64\u001b[0m\u001b[0;34m\u001b[0m\n",
       "\u001b[0;34m\u001b[0m\u001b[0;32mfrom\u001b[0m \u001b[0;34m.\u001b[0m\u001b[0mmtrand\u001b[0m \u001b[0;32mimport\u001b[0m \u001b[0;34m*\u001b[0m\u001b[0;34m\u001b[0m\n",
       "\u001b[0;34m\u001b[0m\u001b[0;34m\u001b[0m\n",
       "\u001b[0;34m\u001b[0m\u001b[0m__all__\u001b[0m \u001b[0;34m+=\u001b[0m \u001b[0;34m[\u001b[0m\u001b[0;34m'Generator'\u001b[0m\u001b[0;34m,\u001b[0m \u001b[0;34m'RandomState'\u001b[0m\u001b[0;34m,\u001b[0m \u001b[0;34m'SeedSequence'\u001b[0m\u001b[0;34m,\u001b[0m \u001b[0;34m'MT19937'\u001b[0m\u001b[0;34m,\u001b[0m\u001b[0;34m\u001b[0m\n",
       "\u001b[0;34m\u001b[0m            \u001b[0;34m'Philox'\u001b[0m\u001b[0;34m,\u001b[0m \u001b[0;34m'PCG64'\u001b[0m\u001b[0;34m,\u001b[0m \u001b[0;34m'PCG64DXSM'\u001b[0m\u001b[0;34m,\u001b[0m \u001b[0;34m'SFC64'\u001b[0m\u001b[0;34m,\u001b[0m \u001b[0;34m'default_rng'\u001b[0m\u001b[0;34m,\u001b[0m\u001b[0;34m\u001b[0m\n",
       "\u001b[0;34m\u001b[0m            \u001b[0;34m'BitGenerator'\u001b[0m\u001b[0;34m]\u001b[0m\u001b[0;34m\u001b[0m\n",
       "\u001b[0;34m\u001b[0m\u001b[0;34m\u001b[0m\n",
       "\u001b[0;34m\u001b[0m\u001b[0;34m\u001b[0m\n",
       "\u001b[0;34m\u001b[0m\u001b[0;32mdef\u001b[0m \u001b[0m__RandomState_ctor\u001b[0m\u001b[0;34m(\u001b[0m\u001b[0;34m)\u001b[0m\u001b[0;34m:\u001b[0m\u001b[0;34m\u001b[0m\n",
       "\u001b[0;34m\u001b[0m    \u001b[0;34m\"\"\"Return a RandomState instance.\u001b[0m\n",
       "\u001b[0;34m\u001b[0m\n",
       "\u001b[0;34m    This function exists solely to assist (un)pickling.\u001b[0m\n",
       "\u001b[0;34m\u001b[0m\n",
       "\u001b[0;34m    Note that the state of the RandomState returned here is irrelevant, as this\u001b[0m\n",
       "\u001b[0;34m    function's entire purpose is to return a newly allocated RandomState whose\u001b[0m\n",
       "\u001b[0;34m    state pickle can set.  Consequently the RandomState returned by this function\u001b[0m\n",
       "\u001b[0;34m    is a freshly allocated copy with a seed=0.\u001b[0m\n",
       "\u001b[0;34m\u001b[0m\n",
       "\u001b[0;34m    See https://github.com/numpy/numpy/issues/4763 for a detailed discussion\u001b[0m\n",
       "\u001b[0;34m\u001b[0m\n",
       "\u001b[0;34m    \"\"\"\u001b[0m\u001b[0;34m\u001b[0m\n",
       "\u001b[0;34m\u001b[0m    \u001b[0;32mreturn\u001b[0m \u001b[0mRandomState\u001b[0m\u001b[0;34m(\u001b[0m\u001b[0mseed\u001b[0m\u001b[0;34m=\u001b[0m\u001b[0;36m0\u001b[0m\u001b[0;34m)\u001b[0m\u001b[0;34m\u001b[0m\n",
       "\u001b[0;34m\u001b[0m\u001b[0;34m\u001b[0m\n",
       "\u001b[0;34m\u001b[0m\u001b[0;34m\u001b[0m\n",
       "\u001b[0;34m\u001b[0m\u001b[0;32mfrom\u001b[0m \u001b[0mnumpy\u001b[0m\u001b[0;34m.\u001b[0m\u001b[0m_pytesttester\u001b[0m \u001b[0;32mimport\u001b[0m \u001b[0mPytestTester\u001b[0m\u001b[0;34m\u001b[0m\n",
       "\u001b[0;34m\u001b[0m\u001b[0mtest\u001b[0m \u001b[0;34m=\u001b[0m \u001b[0mPytestTester\u001b[0m\u001b[0;34m(\u001b[0m\u001b[0m__name__\u001b[0m\u001b[0;34m)\u001b[0m\u001b[0;34m\u001b[0m\n",
       "\u001b[0;34m\u001b[0m\u001b[0;32mdel\u001b[0m \u001b[0mPytestTester\u001b[0m\u001b[0;34m\u001b[0m\u001b[0;34m\u001b[0m\u001b[0m\n"
      ]
     },
     "metadata": {},
     "output_type": "display_data"
    }
   ],
   "source": [
    "??np.random"
   ]
  },
  {
   "cell_type": "markdown",
   "id": "ccdef4dd-b04c-41d5-bc13-3c995f395c29",
   "metadata": {},
   "source": [
    "## Pull Random sample"
   ]
  },
  {
   "cell_type": "code",
   "execution_count": 13,
   "id": "b6cf8ce8",
   "metadata": {},
   "outputs": [
    {
     "data": {
      "text/plain": [
       "[85, 21, 28, 68, 75, 58, 17, 23, 40, 95]"
      ]
     },
     "execution_count": 13,
     "metadata": {},
     "output_type": "execute_result"
    }
   ],
   "source": [
    "#np.random.seed(8)\n",
    "num = []\n",
    "for i in range(10):\n",
    "    num.append(np.random.randint(1, 100))\n",
    "num"
   ]
  },
  {
   "cell_type": "code",
   "execution_count": 51,
   "id": "46ad2749",
   "metadata": {},
   "outputs": [
    {
     "data": {
      "text/plain": [
       "array([61, 48, 52, ..., 53, 55, 53])"
      ]
     },
     "execution_count": 51,
     "metadata": {},
     "output_type": "execute_result"
    }
   ],
   "source": [
    "population_ages1 = stats.poisson.rvs(loc=18, mu=35, size=150000)\n",
    "population_ages1"
   ]
  },
  {
   "cell_type": "code",
   "execution_count": 47,
   "id": "806f5b72",
   "metadata": {},
   "outputs": [
    {
     "data": {
      "text/plain": [
       "150000"
      ]
     },
     "execution_count": 47,
     "metadata": {},
     "output_type": "execute_result"
    }
   ],
   "source": [
    "len(population_ages1)"
   ]
  },
  {
   "cell_type": "code",
   "execution_count": 26,
   "id": "78d8031d-2111-4824-82a3-1be3a9aa5e49",
   "metadata": {
    "tags": []
   },
   "outputs": [
    {
     "name": "stdout",
     "output_type": "stream",
     "text": [
      "43.000112\n",
      "39.26\n"
     ]
    }
   ],
   "source": [
    "np.random.seed(6)\n",
    "\n",
    "population_ages1 = stats.poisson.rvs(loc=18, mu=35, size=150000)\n",
    "population_ages2 = stats.poisson.rvs(loc=18, mu=10, size=100000)\n",
    "population_ages = np.concatenate((population_ages1, population_ages2))\n",
    "\n",
    "minnesota_ages1 = stats.poisson.rvs(loc=18, mu=30, size=30)\n",
    "minnesota_ages2 = stats.poisson.rvs(loc=18, mu=10, size=20)\n",
    "minnesota_ages = np.concatenate((minnesota_ages1, minnesota_ages2))\n",
    "\n",
    "print( population_ages.mean() )\n",
    "print( minnesota_ages.mean() )"
   ]
  },
  {
   "cell_type": "code",
   "execution_count": 8,
   "id": "e6866756-58e3-49b2-b209-39bc3dd8f50c",
   "metadata": {},
   "outputs": [
    {
     "data": {
      "text/plain": [
       "Ttest_1sampResult(statistic=-2.5742714883655027, pvalue=0.013118685425061678)"
      ]
     },
     "execution_count": 8,
     "metadata": {},
     "output_type": "execute_result"
    }
   ],
   "source": [
    "stats.ttest_1samp(a = minnesota_ages,               # Sample data\n",
    "                 popmean = population_ages.mean())  # Pop mean"
   ]
  },
  {
   "cell_type": "code",
   "execution_count": 52,
   "id": "acd11ac5-6112-4586-9bbf-7e70450fa22f",
   "metadata": {},
   "outputs": [
    {
     "data": {
      "text/html": [
       "<div>\n",
       "<style scoped>\n",
       "    .dataframe tbody tr th:only-of-type {\n",
       "        vertical-align: middle;\n",
       "    }\n",
       "\n",
       "    .dataframe tbody tr th {\n",
       "        vertical-align: top;\n",
       "    }\n",
       "\n",
       "    .dataframe thead th {\n",
       "        text-align: right;\n",
       "    }\n",
       "</style>\n",
       "<table border=\"1\" class=\"dataframe\">\n",
       "  <thead>\n",
       "    <tr style=\"text-align: right;\">\n",
       "      <th></th>\n",
       "      <th>weight_before</th>\n",
       "      <th>weight_after</th>\n",
       "      <th>weight_change</th>\n",
       "    </tr>\n",
       "  </thead>\n",
       "  <tbody>\n",
       "    <tr>\n",
       "      <th>0</th>\n",
       "      <td>302.483642</td>\n",
       "      <td>305.605006</td>\n",
       "      <td>3.121364</td>\n",
       "    </tr>\n",
       "    <tr>\n",
       "      <th>1</th>\n",
       "      <td>241.417810</td>\n",
       "      <td>240.526071</td>\n",
       "      <td>-0.891739</td>\n",
       "    </tr>\n",
       "    <tr>\n",
       "      <th>2</th>\n",
       "      <td>235.463046</td>\n",
       "      <td>226.017788</td>\n",
       "      <td>-9.445258</td>\n",
       "    </tr>\n",
       "    <tr>\n",
       "      <th>3</th>\n",
       "      <td>170.400443</td>\n",
       "      <td>165.913930</td>\n",
       "      <td>-4.486513</td>\n",
       "    </tr>\n",
       "    <tr>\n",
       "      <th>4</th>\n",
       "      <td>249.751461</td>\n",
       "      <td>252.590309</td>\n",
       "      <td>2.838848</td>\n",
       "    </tr>\n",
       "    <tr>\n",
       "      <th>...</th>\n",
       "      <td>...</td>\n",
       "      <td>...</td>\n",
       "      <td>...</td>\n",
       "    </tr>\n",
       "    <tr>\n",
       "      <th>95</th>\n",
       "      <td>258.148189</td>\n",
       "      <td>256.671813</td>\n",
       "      <td>-1.476376</td>\n",
       "    </tr>\n",
       "    <tr>\n",
       "      <th>96</th>\n",
       "      <td>275.760015</td>\n",
       "      <td>272.554150</td>\n",
       "      <td>-3.205866</td>\n",
       "    </tr>\n",
       "    <tr>\n",
       "      <th>97</th>\n",
       "      <td>212.077790</td>\n",
       "      <td>218.498901</td>\n",
       "      <td>6.421112</td>\n",
       "    </tr>\n",
       "    <tr>\n",
       "      <th>98</th>\n",
       "      <td>283.446109</td>\n",
       "      <td>281.375144</td>\n",
       "      <td>-2.070965</td>\n",
       "    </tr>\n",
       "    <tr>\n",
       "      <th>99</th>\n",
       "      <td>263.043310</td>\n",
       "      <td>263.595143</td>\n",
       "      <td>0.551833</td>\n",
       "    </tr>\n",
       "  </tbody>\n",
       "</table>\n",
       "<p>100 rows × 3 columns</p>\n",
       "</div>"
      ],
      "text/plain": [
       "    weight_before  weight_after  weight_change\n",
       "0      302.483642    305.605006       3.121364\n",
       "1      241.417810    240.526071      -0.891739\n",
       "2      235.463046    226.017788      -9.445258\n",
       "3      170.400443    165.913930      -4.486513\n",
       "4      249.751461    252.590309       2.838848\n",
       "..            ...           ...            ...\n",
       "95     258.148189    256.671813      -1.476376\n",
       "96     275.760015    272.554150      -3.205866\n",
       "97     212.077790    218.498901       6.421112\n",
       "98     283.446109    281.375144      -2.070965\n",
       "99     263.043310    263.595143       0.551833\n",
       "\n",
       "[100 rows x 3 columns]"
      ]
     },
     "execution_count": 52,
     "metadata": {},
     "output_type": "execute_result"
    }
   ],
   "source": [
    "np.random.seed(11)\n",
    "\n",
    "before= stats.norm.rvs(scale=30, loc=250, size=100)\n",
    "\n",
    "after = before + stats.norm.rvs(scale=5, loc=-1.25, size=100)\n",
    "\n",
    "weight_df = pd.DataFrame({\"weight_before\":before,\n",
    "                          \"weight_after\":after,\n",
    "                          \"weight_change\":after-before})\n",
    "\n",
    "weight_df"
   ]
  },
  {
   "cell_type": "code",
   "execution_count": 62,
   "id": "5b7a2668",
   "metadata": {},
   "outputs": [
    {
     "data": {
      "text/plain": [
       "matrix([[ 3.02483642e+02,  3.05605006e+02,  3.12136383e+00],\n",
       "        [ 2.41417810e+02,  2.40526071e+02, -8.91739499e-01],\n",
       "        [ 2.35463046e+02,  2.26017788e+02, -9.44525813e+00],\n",
       "        [ 1.70400443e+02,  1.65913930e+02, -4.48651316e+00],\n",
       "        [ 2.49751461e+02,  2.52590309e+02,  2.83884783e+00],\n",
       "        [ 2.40411059e+02,  2.39345033e+02, -1.06602623e+00],\n",
       "        [ 2.33901119e+02,  2.32407606e+02, -1.49351271e+00],\n",
       "        [ 2.59462080e+02,  2.67169736e+02,  7.70765548e+00],\n",
       "        [ 2.62631521e+02,  2.72390803e+02,  9.75928157e+00],\n",
       "        [ 2.18031911e+02,  2.16596576e+02, -1.43533452e+00],\n",
       "        [ 2.23412810e+02,  2.31827337e+02,  8.41452714e+00],\n",
       "        [ 2.35727995e+02,  2.24510138e+02, -1.12178577e+01],\n",
       "        [ 2.70690469e+02,  2.59195183e+02, -1.14952863e+01],\n",
       "        [ 2.66835765e+02,  2.69921041e+02,  3.08527604e+00],\n",
       "        [ 2.10833545e+02,  2.08273739e+02, -2.55980537e+00],\n",
       "        [ 2.16415742e+02,  2.18060598e+02,  1.64485554e+00],\n",
       "        [ 2.72105122e+02,  2.73437884e+02,  1.33276193e+00],\n",
       "        [ 2.97239022e+02,  2.95542004e+02, -1.69701820e+00],\n",
       "        [ 2.49067747e+02,  2.51228396e+02,  2.16064855e+00],\n",
       "        [ 2.29496601e+02,  2.29000211e+02, -4.96389954e-01],\n",
       "        [ 2.82868891e+02,  2.73958178e+02, -8.91071261e+00],\n",
       "        [ 2.40712701e+02,  2.40557044e+02, -1.55657113e-01],\n",
       "        [ 2.71772567e+02,  2.71450883e+02, -3.21683728e-01],\n",
       "        [ 2.96472149e+02,  3.04386032e+02,  7.91388268e+00],\n",
       "        [ 2.68902395e+02,  2.62007923e+02, -6.89447201e+00],\n",
       "        [ 2.52204797e+02,  2.51039782e+02, -1.16501560e+00],\n",
       "        [ 2.71968141e+02,  2.68595996e+02, -3.37214412e+00],\n",
       "        [ 2.30722738e+02,  2.28808189e+02, -1.91454950e+00],\n",
       "        [ 2.44657205e+02,  2.51703228e+02,  7.04602309e+00],\n",
       "        [ 2.32781363e+02,  2.33424567e+02,  6.43203421e-01],\n",
       "        [ 2.43868741e+02,  2.40295910e+02, -3.57283031e+00],\n",
       "        [ 2.35405147e+02,  2.34924353e+02, -4.80793775e-01],\n",
       "        [ 2.44426740e+02,  2.47007543e+02,  2.58080310e+00],\n",
       "        [ 2.38583907e+02,  2.32363769e+02, -6.22013847e+00],\n",
       "        [ 2.52669329e+02,  2.50097617e+02, -2.57171164e+00],\n",
       "        [ 2.51910150e+02,  2.58371196e+02,  6.46104610e+00],\n",
       "        [ 2.58890413e+02,  2.61921173e+02,  3.03076023e+00],\n",
       "        [ 2.92083134e+02,  2.90609120e+02, -1.47401308e+00],\n",
       "        [ 2.03594123e+02,  1.99956677e+02, -3.63744614e+00],\n",
       "        [ 2.88868558e+02,  2.86848230e+02, -2.02032762e+00],\n",
       "        [ 2.42882487e+02,  2.33877089e+02, -9.00539731e+00],\n",
       "        [ 2.13029614e+02,  2.16494794e+02,  3.46517991e+00],\n",
       "        [ 2.44827407e+02,  2.45283174e+02,  4.55767193e-01],\n",
       "        [ 2.52755151e+02,  2.52196517e+02, -5.58633913e-01],\n",
       "        [ 2.82026754e+02,  2.74289641e+02, -7.73711309e+00],\n",
       "        [ 2.18150967e+02,  2.13326154e+02, -4.82481222e+00],\n",
       "        [ 2.56520446e+02,  2.57842844e+02,  1.32239817e+00],\n",
       "        [ 2.53534585e+02,  2.53573167e+02,  3.85819054e-02],\n",
       "        [ 1.99476673e+02,  1.95743021e+02, -3.73365239e+00],\n",
       "        [ 2.14427342e+02,  2.15702452e+02,  1.27510958e+00],\n",
       "        [ 2.68003060e+02,  2.71446976e+02,  3.44391563e+00],\n",
       "        [ 2.70867018e+02,  2.66241916e+02, -4.62510137e+00],\n",
       "        [ 2.82631326e+02,  2.78727035e+02, -3.90429120e+00],\n",
       "        [ 2.66014651e+02,  2.60415342e+02, -5.59930972e+00],\n",
       "        [ 2.61856360e+02,  2.54830039e+02, -7.02632112e+00],\n",
       "        [ 2.53686026e+02,  2.56419385e+02,  2.73335923e+00],\n",
       "        [ 2.86273049e+02,  2.87573189e+02,  1.30014011e+00],\n",
       "        [ 2.24708017e+02,  2.25151587e+02,  4.43569682e-01],\n",
       "        [ 2.45743193e+02,  2.38632592e+02, -7.11060017e+00],\n",
       "        [ 2.61560624e+02,  2.55080786e+02, -6.47983827e+00],\n",
       "        [ 2.02675171e+02,  2.01086828e+02, -1.58834282e+00],\n",
       "        [ 2.89328309e+02,  2.86012260e+02, -3.31604877e+00],\n",
       "        [ 2.26214050e+02,  2.25564464e+02, -6.49586002e-01],\n",
       "        [ 2.47847518e+02,  2.43102659e+02, -4.74485843e+00],\n",
       "        [ 3.14700233e+02,  3.16720357e+02,  2.02012441e+00],\n",
       "        [ 2.25116882e+02,  2.32864283e+02,  7.74740037e+00],\n",
       "        [ 2.34118839e+02,  2.40601870e+02,  6.48303048e+00],\n",
       "        [ 2.96851111e+02,  3.03650481e+02,  6.79936992e+00],\n",
       "        [ 2.17594185e+02,  2.16699284e+02, -8.94901099e-01],\n",
       "        [ 2.37038271e+02,  2.40396148e+02,  3.35787616e+00],\n",
       "        [ 2.65482521e+02,  2.62348372e+02, -3.13414921e+00],\n",
       "        [ 2.63661786e+02,  2.67011699e+02,  3.34991272e+00],\n",
       "        [ 2.67810586e+02,  2.64668473e+02, -3.14211277e+00],\n",
       "        [ 2.61115190e+02,  2.57420313e+02, -3.69487718e+00],\n",
       "        [ 2.90361342e+02,  2.85889373e+02, -4.47196908e+00],\n",
       "        [ 2.80478264e+02,  2.82723969e+02,  2.24570418e+00],\n",
       "        [ 2.67858354e+02,  2.67985387e+02,  1.27033288e-01],\n",
       "        [ 2.29515952e+02,  2.29197578e+02, -3.18373297e-01],\n",
       "        [ 2.28593202e+02,  2.21644174e+02, -6.94902826e+00],\n",
       "        [ 1.92751314e+02,  1.92210338e+02, -5.40975547e-01],\n",
       "        [ 2.70619370e+02,  2.62165774e+02, -8.45359677e+00],\n",
       "        [ 1.95309712e+02,  2.01442277e+02,  6.13256412e+00],\n",
       "        [ 2.76373414e+02,  2.74465647e+02, -1.90776742e+00],\n",
       "        [ 3.05390946e+02,  3.05113092e+02, -2.77853991e-01],\n",
       "        [ 2.18150368e+02,  2.16374622e+02, -1.77574627e+00],\n",
       "        [ 2.29465460e+02,  2.20295647e+02, -9.16981290e+00],\n",
       "        [ 2.35713566e+02,  2.27604697e+02, -8.10886843e+00],\n",
       "        [ 2.74909313e+02,  2.73517721e+02, -1.39159169e+00],\n",
       "        [ 2.24099425e+02,  2.30311782e+02,  6.21235750e+00],\n",
       "        [ 2.46083756e+02,  2.39257570e+02, -6.82618608e+00],\n",
       "        [ 2.34307371e+02,  2.29530301e+02, -4.77707013e+00],\n",
       "        [ 2.42461692e+02,  2.40975529e+02, -1.48616287e+00],\n",
       "        [ 2.88738242e+02,  2.79051839e+02, -9.68640304e+00],\n",
       "        [ 2.21073854e+02,  2.11337144e+02, -9.73671058e+00],\n",
       "        [ 2.52152793e+02,  2.48845524e+02, -3.30726971e+00],\n",
       "        [ 2.58148189e+02,  2.56671813e+02, -1.47637572e+00],\n",
       "        [ 2.75760015e+02,  2.72554150e+02, -3.20586566e+00],\n",
       "        [ 2.12077790e+02,  2.18498901e+02,  6.42111175e+00],\n",
       "        [ 2.83446109e+02,  2.81375144e+02, -2.07096474e+00],\n",
       "        [ 2.63043310e+02,  2.63595143e+02,  5.51833266e-01]])"
      ]
     },
     "execution_count": 62,
     "metadata": {},
     "output_type": "execute_result"
    }
   ],
   "source": [
    "np.matrix(weight_df)"
   ]
  },
  {
   "cell_type": "code",
   "execution_count": 56,
   "id": "c0868ee0",
   "metadata": {},
   "outputs": [
    {
     "data": {
      "text/plain": [
       "(array([ 1.,  2.,  6., 12., 19., 18., 19., 11.,  9.,  3.]),\n",
       " array([170.40044322, 184.83042218, 199.26040113, 213.69038009,\n",
       "        228.12035904, 242.550338  , 256.98031695, 271.41029591,\n",
       "        285.84027486, 300.27025382, 314.70023277]),\n",
       " <BarContainer object of 10 artists>)"
      ]
     },
     "execution_count": 56,
     "metadata": {},
     "output_type": "execute_result"
    },
    {
     "data": {
      "image/png": "[encoded data removed]",
      "text/plain": [
       "<Figure size 432x288 with 1 Axes>"
      ]
     },
     "metadata": {
      "needs_background": "light"
     },
     "output_type": "display_data"
    }
   ],
   "source": [
    "plt.hist(weight_df.weight_before)"
   ]
  },
  {
   "cell_type": "code",
   "execution_count": 60,
   "id": "6d103008",
   "metadata": {},
   "outputs": [
    {
     "data": {
      "text/plain": [
       "(array([2.9000e+02, 6.4110e+03, 2.6687e+04, 2.4981e+04, 2.8110e+04,\n",
       "        1.0799e+04, 2.0390e+03, 6.1700e+02, 6.1000e+01, 5.0000e+00]),\n",
       " array([18. , 20.7, 23.4, 26.1, 28.8, 31.5, 34.2, 36.9, 39.6, 42.3, 45. ]),\n",
       " <BarContainer object of 10 artists>)"
      ]
     },
     "execution_count": 60,
     "metadata": {},
     "output_type": "execute_result"
    },
    {
     "data": {
      "image/png": "[encoded data removed]",
      "text/plain": [
       "<Figure size 432x288 with 1 Axes>"
      ]
     },
     "metadata": {
      "needs_background": "light"
     },
     "output_type": "display_data"
    }
   ],
   "source": [
    "plt.hist(population_ages2)"
   ]
  },
  {
   "cell_type": "code",
   "execution_count": 53,
   "id": "e2136d28",
   "metadata": {},
   "outputs": [
    {
     "data": {
      "text/html": [
       "<div>\n",
       "<style scoped>\n",
       "    .dataframe tbody tr th:only-of-type {\n",
       "        vertical-align: middle;\n",
       "    }\n",
       "\n",
       "    .dataframe tbody tr th {\n",
       "        vertical-align: top;\n",
       "    }\n",
       "\n",
       "    .dataframe thead th {\n",
       "        text-align: right;\n",
       "    }\n",
       "</style>\n",
       "<table border=\"1\" class=\"dataframe\">\n",
       "  <thead>\n",
       "    <tr style=\"text-align: right;\">\n",
       "      <th></th>\n",
       "      <th>weight_before</th>\n",
       "      <th>weight_after</th>\n",
       "      <th>weight_change</th>\n",
       "    </tr>\n",
       "  </thead>\n",
       "  <tbody>\n",
       "    <tr>\n",
       "      <th>count</th>\n",
       "      <td>100.000000</td>\n",
       "      <td>100.000000</td>\n",
       "      <td>100.000000</td>\n",
       "    </tr>\n",
       "    <tr>\n",
       "      <th>mean</th>\n",
       "      <td>250.345546</td>\n",
       "      <td>249.115171</td>\n",
       "      <td>-1.230375</td>\n",
       "    </tr>\n",
       "    <tr>\n",
       "      <th>std</th>\n",
       "      <td>28.132539</td>\n",
       "      <td>28.422183</td>\n",
       "      <td>4.783696</td>\n",
       "    </tr>\n",
       "    <tr>\n",
       "      <th>min</th>\n",
       "      <td>170.400443</td>\n",
       "      <td>165.913930</td>\n",
       "      <td>-11.495286</td>\n",
       "    </tr>\n",
       "    <tr>\n",
       "      <th>25%</th>\n",
       "      <td>230.421042</td>\n",
       "      <td>229.148236</td>\n",
       "      <td>-4.046211</td>\n",
       "    </tr>\n",
       "    <tr>\n",
       "      <th>50%</th>\n",
       "      <td>250.830805</td>\n",
       "      <td>251.134089</td>\n",
       "      <td>-1.413463</td>\n",
       "    </tr>\n",
       "    <tr>\n",
       "      <th>75%</th>\n",
       "      <td>270.637145</td>\n",
       "      <td>268.927258</td>\n",
       "      <td>1.738673</td>\n",
       "    </tr>\n",
       "    <tr>\n",
       "      <th>max</th>\n",
       "      <td>314.700233</td>\n",
       "      <td>316.720357</td>\n",
       "      <td>9.759282</td>\n",
       "    </tr>\n",
       "  </tbody>\n",
       "</table>\n",
       "</div>"
      ],
      "text/plain": [
       "       weight_before  weight_after  weight_change\n",
       "count     100.000000    100.000000     100.000000\n",
       "mean      250.345546    249.115171      -1.230375\n",
       "std        28.132539     28.422183       4.783696\n",
       "min       170.400443    165.913930     -11.495286\n",
       "25%       230.421042    229.148236      -4.046211\n",
       "50%       250.830805    251.134089      -1.413463\n",
       "75%       270.637145    268.927258       1.738673\n",
       "max       314.700233    316.720357       9.759282"
      ]
     },
     "execution_count": 53,
     "metadata": {},
     "output_type": "execute_result"
    }
   ],
   "source": [
    "\n",
    "weight_df.describe()             # Check a summary of the data"
   ]
  },
  {
   "cell_type": "code",
   "execution_count": 10,
   "id": "8fcb94ce-448a-4f32-8f11-d1ada5c4634e",
   "metadata": {},
   "outputs": [
    {
     "data": {
      "image/png": "[encoded data removed]",
      "text/plain": [
       "<Figure size 576x432 with 1 Axes>"
      ]
     },
     "metadata": {
      "needs_background": "light"
     },
     "output_type": "display_data"
    }
   ],
   "source": [
    "import numpy as np\n",
    "import matplotlib.pyplot as plt\n",
    "\n",
    "# Generate data points\n",
    "x = np.linspace(0, 2 * np.pi, 100)\n",
    "y = np.sin(x)\n",
    "\n",
    "# Create the plot\n",
    "plt.figure(figsize=(8, 6))  # Optional: Set the figure size\n",
    "plt.plot(x, y, color='blue', linewidth=2, label='sin(x)')\n",
    "\n",
    "# Customize the plot\n",
    "plt.title('Sine Wave')\n",
    "plt.xlabel('x')\n",
    "plt.ylabel('y')\n",
    "plt.grid(True)\n",
    "plt.legend()\n",
    "\n",
    "# Show the plot\n",
    "plt.show()\n"
   ]
  },
  {
   "cell_type": "code",
   "execution_count": 11,
   "id": "19a1f7a8-c8c7-4c34-8265-46dd5ae9f830",
   "metadata": {},
   "outputs": [
    {
     "data": {
      "image/png": "[encoded data removed]",
      "text/plain": [
       "<Figure size 576x432 with 2 Axes>"
      ]
     },
     "metadata": {
      "needs_background": "light"
     },
     "output_type": "display_data"
    }
   ],
   "source": [
    "import numpy as np\n",
    "import matplotlib.pyplot as plt\n",
    "from matplotlib.colors import LinearSegmentedColormap\n",
    "\n",
    "# Generate sample data\n",
    "x = np.array([1, 2, 3, 4, 5])  # Independent variable\n",
    "y = np.array([3, 5, 7, 9, 11])  # Dependent variable\n",
    "population = np.array([100, 500, 1000, 1500, 2000])  # Population values\n",
    "\n",
    "# Create color map (red to yellow gradient)\n",
    "colors = [(1, 0, 0), (1, 1, 0)]  # Red to yellow\n",
    "cmap = LinearSegmentedColormap.from_list('custom_cmap', colors)\n",
    "\n",
    "# Create the plot\n",
    "plt.figure(figsize=(8, 6))  # Optional: Set the figure size\n",
    "plt.scatter(x, y, c=population, cmap=cmap, edgecolors='black', s=100)\n",
    "\n",
    "# Customize the plot\n",
    "plt.title('Population Regression')\n",
    "plt.xlabel('x')\n",
    "plt.ylabel('y')\n",
    "plt.colorbar(label='Population')\n",
    "plt.grid(True)\n",
    "\n",
    "# Show the plot\n",
    "plt.show()\n"
   ]
  }
 ],
 "metadata": {
  "kernelspec": {
   "display_name": "Python 3 (ipykernel)",
   "language": "python",
   "name": "python3"
  },
  "language_info": {
   "codemirror_mode": {
    "name": "ipython",
    "version": 3
   },
   "file_extension": ".py",
   "mimetype": "text/x-python",
   "name": "python",
   "nbconvert_exporter": "python",
   "pygments_lexer": "ipython3",
   "version": "3.9.12"
  }
 },
 "nbformat": 4,
 "nbformat_minor": 5
}
